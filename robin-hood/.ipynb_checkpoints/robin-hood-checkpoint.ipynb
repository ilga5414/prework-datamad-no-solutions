{
 "cells": [
  {
   "cell_type": "markdown",
   "metadata": {},
   "source": [
    "# Robin Hood\n",
    "## Intro\n",
    "We are in a competition to win the archery contest in Sherwood. With our bow and arrows we shoot on a target and try to hit as close as possible to the center.\n",
    "\n",
    "The center of the target is represented by the values (0, 0) on the coordinate axes.\n",
    "\n",
    "![](images/arrows.jpg)\n",
    "\n",
    "## Goals:\n",
    "* data structures: lists, sets, tuples\n",
    "* logical operators: if-elif-else\n",
    "* loop: while/for\n",
    "* minimum (optional sorting)\n",
    "\n",
    "## Description:\n",
    "In the 2-dimensional space, a point can be defined by a pair of values that correspond to the horizontal coordinate (x) and the vertical coordinate (y). The space can be divided into 4 zones (quadrants): Q1, Q2, Q3, Q4. Whose single point of union is the point (0, 0).\n",
    "\n",
    "If a point is in Q1 both its x coordinate and the y are positive. I leave a link to wikipedia to familiarize yourself with these quadrants.\n",
    "\n",
    "https://en.wikipedia.org/wiki/Cartesian_coordinate_system\n",
    "\n",
    "https://en.wikipedia.org/wiki/Euclidean_distance\n",
    "\n",
    "## Shots\n",
    "```\n",
    "points = [(4, 5), (-0, 2), (4, 7), (1, -3), (3, -2), (4, 5),\n",
    "          (3, 2), (5, 7), (-5, 7), (2, 2), (-4, 5), (0, -2),\n",
    "          (-4, 7), (-1, 3), (-3, 2), (-4, -5), (-3, 2),\n",
    "          (5, 7), (5, 7), (2, 2), (9, 9), (-8, -9)]\n",
    "```\n",
    "\n",
    "## Tasks\n",
    "1. Robin Hood is famous for hitting an arrow with another arrow. Did you get it?\n",
    "2. Calculate how many arrows have fallen in each quadrant.\n",
    "3. Find the point closest to the center. Calculate its distance to the center. \n",
    "4. If the target has a radius of 9, calculate the number of arrows that must be picked up in the forest."
   ]
  },
  {
   "cell_type": "code",
   "execution_count": 50,
   "metadata": {},
   "outputs": [],
   "source": [
    "# Variables\n",
    "\n",
    "points = [(4, 5), (-0, 2), (4, 7), (1, -3), (3, -2), (4, 5),\n",
    "          (3, 2), (5, 7), (-5, 7), (2, 2), (-4, 5), (0, -2),\n",
    "          (-4, 7), (-1, 3), (-3, 2), (-4, -5), (-3, 2),\n",
    "          (5, 7), (5, 7), (2, 2), (9, 9), (-8, -9)]"
   ]
  },
  {
   "cell_type": "code",
   "execution_count": 51,
   "metadata": {},
   "outputs": [
    {
     "name": "stdout",
     "output_type": "stream",
     "text": [
      "{(-5, 7), (3, -2), (-4, 7), (-4, 5), (9, 9), (5, 7), (4, 5), (0, 2), (1, -3), (-1, 3), (-4, -5), (2, 2), (-3, 2), (3, 2), (-8, -9), (0, -2), (4, 7)}\n"
     ]
    },
    {
     "data": {
      "text/plain": [
       "True"
      ]
     },
     "execution_count": 51,
     "metadata": {},
     "output_type": "execute_result"
    }
   ],
   "source": [
    "# 1. Robin Hood is famous for hitting an arrow with another arrow. Did you get it?\n",
    "a = set(points)\n",
    "print (a)\n",
    "\n",
    "#if len(a) == len(points):\n",
    "#    print(\"Robin Hood misses\", False)\n",
    "#else:\n",
    "#    print (\"Robin Hood hits it twice\", True)\n",
    "\n",
    "len(a) != len(points)"
   ]
  },
  {
   "cell_type": "markdown",
   "metadata": {},
   "source": [
    "**Expected output**:\n",
    "```\n",
    "True\n",
    "```"
   ]
  },
  {
   "cell_type": "code",
   "execution_count": 52,
   "metadata": {},
   "outputs": [
    {
     "name": "stdout",
     "output_type": "stream",
     "text": [
      "4 5\n",
      "0 2\n",
      "4 7\n",
      "1 -3\n",
      "3 -2\n",
      "4 5\n",
      "3 2\n",
      "5 7\n",
      "-5 7\n",
      "2 2\n",
      "-4 5\n",
      "0 -2\n",
      "-4 7\n",
      "-1 3\n",
      "-3 2\n",
      "-4 -5\n",
      "-3 2\n",
      "5 7\n",
      "5 7\n",
      "2 2\n",
      "9 9\n",
      "-8 -9\n"
     ]
    }
   ],
   "source": [
    "# 2. Calculate how many arrows have fallen in each quadrant.\n",
    "\n",
    "for x, y in points:\n",
    "    print(x,y)\n",
    "    "
   ]
  },
  {
   "cell_type": "code",
   "execution_count": 154,
   "metadata": {},
   "outputs": [
    {
     "name": "stdout",
     "output_type": "stream",
     "text": [
      "Number of arrows in each quadrant= [10, 6, 2, 2]\n"
     ]
    }
   ],
   "source": [
    "result = [0, 0, 0, 0]\n",
    "\n",
    "for x,y in points:\n",
    "    # Q1\n",
    "    if x > 0 and y > 0:\n",
    "        result[0] += 1\n",
    "    # Q2    \n",
    "    elif x < 0 and y > 0:\n",
    "        result[1] += 1\n",
    "\n",
    "#for x,y in points:\n",
    "    # Q3\n",
    "    elif x < 0 and y < 0:\n",
    "        result[2] += 1\n",
    "    # Q4\n",
    "    elif x > 0 and y < 0:\n",
    "        result[3] += 1\n",
    "      \n",
    "print(\"Number of arrows in each quadrant=\", result)"
   ]
  },
  {
   "cell_type": "markdown",
   "metadata": {},
   "source": [
    "**Expected output**:\n",
    "```\n",
    "(10, 6, 2, 2)\n",
    "```"
   ]
  },
  {
   "cell_type": "code",
   "execution_count": 155,
   "metadata": {},
   "outputs": [],
   "source": [
    "# 3. Find the point closest to the center. Calculate its distance to the center\n",
    "# Defining a function that calculates the distance to the center can help.\n"
   ]
  },
  {
   "cell_type": "code",
   "execution_count": 233,
   "metadata": {
    "scrolled": true
   },
   "outputs": [
    {
     "name": "stdout",
     "output_type": "stream",
     "text": [
      "[9, 2, 11, 4, 5, 9, 5, 12, 12, 4, 9, 2, 11, 4, 5, 9, 5, 12, 12, 4, 18, 17]\n",
      "\n",
      "************************\n",
      " (0, 2)\n",
      "2.0\n"
     ]
    }
   ],
   "source": [
    "# Variables\n",
    "coords_add=[]\n",
    "closest_coord=0\n",
    "arrow_position=0\n",
    "distance=0\n",
    "centerr=(0,0)\n",
    "\n",
    "#imports\n",
    "import math \n",
    "\n",
    "# Funcion que suma las coordenadas en valor absoluto\n",
    "def center(x,y):\n",
    "    return abs(x) + abs(y)\n",
    "\n",
    "# Listamos los valores\n",
    "for x,y in points:\n",
    "    coords_add.append(center(x,y))   \n",
    "print(coords_add)\n",
    "\n",
    "# Averiguamos a que lanzada corresponde la flecha mas cercana al centro\n",
    "arrow_position = coords_add.index(min(coords_add))\n",
    "#min = 2a y 12a flecha lanzada / valor 1 y valor 11\n",
    "\n",
    "# Mostramos las coordenadas de la flecha lanzada mas cerca\n",
    "closest_coord=points[arrow_position]\n",
    "print(\"\\n************************\\n\",closest_coord)\n",
    "\n",
    "# Calculamos su distancia hasta el centro usando una función para la hipotenusa\n",
    "def hipotenuse(x,y):\n",
    "    return math.sqrt(x**2 + y**2)\n",
    "\n",
    "# Distancia hasta el centro\n",
    "distance = hipotenuse(points[arrow_position][0], points[arrow_position][1])\n",
    "print (distance)"
   ]
  },
  {
   "cell_type": "markdown",
   "metadata": {},
   "source": [
    "**Expected output**:\n",
    "```\n",
    "(0, 2)\n",
    "2.0\n",
    "```"
   ]
  },
  {
   "cell_type": "code",
   "execution_count": 174,
   "metadata": {},
   "outputs": [],
   "source": [
    "# 4. If the target has a radius of 9, calculate the number of arrows that \n",
    "# must be picked up in the forest.\n"
   ]
  },
  {
   "cell_type": "code",
   "execution_count": 234,
   "metadata": {},
   "outputs": [
    {
     "name": "stdout",
     "output_type": "stream",
     "text": [
      "[(9, 9), (-8, -9)]\n"
     ]
    },
    {
     "data": {
      "text/plain": [
       "2"
      ]
     },
     "execution_count": 234,
     "metadata": {},
     "output_type": "execute_result"
    }
   ],
   "source": [
    "missed_arrows = []\n",
    "\n",
    "# Queremos las flechas cuyo radio sea 9 o superior\n",
    "for x,y in points:\n",
    "    if abs(x) >= 9 or abs(y) >= 9:\n",
    "        missed_arrows.append((x,y))\n",
    "print(missed_arrows)\n",
    "\n",
    "# Numero de felchas falladas\n",
    "len(missed_arrows)"
   ]
  },
  {
   "cell_type": "markdown",
   "metadata": {},
   "source": [
    "**Expected output**:\n",
    "```\n",
    "[(9, 9), (-8, -9)]\n",
    "2\n",
    "```"
   ]
  }
 ],
 "metadata": {
  "kernelspec": {
   "display_name": "Python 3",
   "language": "python",
   "name": "python3"
  },
  "language_info": {
   "codemirror_mode": {
    "name": "ipython",
    "version": 3
   },
   "file_extension": ".py",
   "mimetype": "text/x-python",
   "name": "python",
   "nbconvert_exporter": "python",
   "pygments_lexer": "ipython3",
   "version": "3.9.1"
  }
 },
 "nbformat": 4,
 "nbformat_minor": 2
}
